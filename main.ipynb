{
 "cells": [
  {
   "cell_type": "code",
   "execution_count": 1,
   "id": "initial_id",
   "metadata": {
    "collapsed": true,
    "ExecuteTime": {
     "end_time": "2024-05-09T14:24:27.271855962Z",
     "start_time": "2024-05-09T14:24:26.563553041Z"
    }
   },
   "outputs": [],
   "source": [
    "import chess.pgn\n",
    "import pandas as pd"
   ]
  },
  {
   "cell_type": "code",
   "outputs": [],
   "source": [
    "\n",
    "\n",
    "\n",
    "header_list = ['Event',\n",
    " 'Site',\n",
    " 'Date',\n",
    " 'Round',\n",
    " 'White',\n",
    " 'Black',\n",
    " 'Result',\n",
    " 'BlackElo',\n",
    " 'ECO',\n",
    " 'Opening',\n",
    " 'Termination',\n",
    " 'TimeControl',\n",
    " 'UTCDate',\n",
    " 'UTCTime',\n",
    " 'WhiteElo',\n",
    "]\n",
    "\n",
    "\n",
    "\n",
    "def open_and_scrape_headers(filepath):\n",
    "    game_id = 0\n",
    "    g = pd.DataFrame(columns=['game_id'] + header_list)\n",
    "\n",
    "    with open(filepath) as f:\n",
    "\n",
    "        while True:\n",
    "            game = chess.pgn.read_game(f)\n",
    "            game_id += 1\n",
    "\n",
    "            # If there are no more games, exit the loop\n",
    "            if game is None:\n",
    "                break\n",
    "\n",
    "            value_list = [game_id]\n",
    "            for header in header_list:\n",
    "                try:\n",
    "                    value_list.append(game.headers[header])\n",
    "                except:\n",
    "                    value_list.append('')\n",
    "\n",
    "            g.loc[len(g)] = value_list\n",
    "\n",
    "            if (game_id % 20000 == 0):\n",
    "                print('Now adding game_id: ' + str(game_id))\n",
    "\n",
    "    return g\n",
    "\n",
    "\n"
   ],
   "metadata": {
    "collapsed": false,
    "ExecuteTime": {
     "end_time": "2024-05-09T14:27:50.325652178Z",
     "start_time": "2024-05-09T14:27:50.300225114Z"
    }
   },
   "id": "e5f99308f8e52970",
   "execution_count": 4
  },
  {
   "cell_type": "code",
   "outputs": [
    {
     "data": {
      "text/plain": "     game_id       Event       Site        Date Round    White  \\\n0          1  Live Chess  Chess.com  2024.05.02     -  drakar1   \n1          2  Live Chess  Chess.com  2024.05.02     -  drakar1   \n2          3  Live Chess  Chess.com  2024.05.02     -  drakar1   \n3          4  Live Chess  Chess.com  2024.05.04     -  drakar1   \n4          5  Live Chess  Chess.com  2024.05.04     -  drakar1   \n..       ...         ...        ...         ...   ...      ...   \n757      758  Live Chess  Chess.com  2020.01.06     -  drakar1   \n758      759  Live Chess  Chess.com  2020.01.09     -  drakar1   \n759      760  Live Chess  Chess.com  2020.01.09     -  drakar1   \n760      761  Live Chess  Chess.com  2020.01.09     -  drakar1   \n761      762  Live Chess  Chess.com  2020.01.09     -  drakar1   \n\n              Black   Result  BlackElo  ECO Opening  \\\n0         tars_case      0-1      2403  B06           \n1      michechess89      1-0      2487  D02           \n2        Rodin_Kesh      1-0      2391  A43           \n3       Dark_Attack      0-1      2440  D00           \n4         Mavalazik      0-1      2427  D00           \n..              ...      ...       ...  ...     ...   \n757  ratlacodonkg39      1-0      2083  D02           \n758       biciklist  1/2-1/2      2150  A15           \n759   chhatturangam  1/2-1/2      2172  A40           \n760           G0492      1-0      2168  A11           \n761        pasw0rds      0-1      2203  D02           \n\n                        Termination TimeControl     UTCDate   UTCTime  \\\n0             tars_case won on time         180  2024.05.02  02:35:29   \n1          drakar1 won by checkmate         180  2024.05.02  02:46:41   \n2        drakar1 won by resignation         180  2024.05.02  02:53:12   \n3    Dark_Attack won by resignation         180  2024.05.04  01:47:18   \n4             Mavalazik won on time         180  2024.05.04  05:16:43   \n..                              ...         ...         ...       ...   \n757             drakar1 won on time         180  2020.01.06  08:45:31   \n758         Game drawn by stalemate         180  2020.01.09  06:37:19   \n759         Game drawn by stalemate         180  2020.01.09  07:03:34   \n760      drakar1 won by resignation         180  2020.01.09  07:19:24   \n761     pasw0rds won by resignation         180  2020.01.09  07:25:38   \n\n     WhiteElo  \n0        2446  \n1        2463  \n2        2470  \n3        2452  \n4        2434  \n..        ...  \n757      2136  \n758      2137  \n759      2184  \n760      2200  \n761      2183  \n\n[762 rows x 16 columns]",
      "text/html": "<div>\n<style scoped>\n    .dataframe tbody tr th:only-of-type {\n        vertical-align: middle;\n    }\n\n    .dataframe tbody tr th {\n        vertical-align: top;\n    }\n\n    .dataframe thead th {\n        text-align: right;\n    }\n</style>\n<table border=\"1\" class=\"dataframe\">\n  <thead>\n    <tr style=\"text-align: right;\">\n      <th></th>\n      <th>game_id</th>\n      <th>Event</th>\n      <th>Site</th>\n      <th>Date</th>\n      <th>Round</th>\n      <th>White</th>\n      <th>Black</th>\n      <th>Result</th>\n      <th>BlackElo</th>\n      <th>ECO</th>\n      <th>Opening</th>\n      <th>Termination</th>\n      <th>TimeControl</th>\n      <th>UTCDate</th>\n      <th>UTCTime</th>\n      <th>WhiteElo</th>\n    </tr>\n  </thead>\n  <tbody>\n    <tr>\n      <th>0</th>\n      <td>1</td>\n      <td>Live Chess</td>\n      <td>Chess.com</td>\n      <td>2024.05.02</td>\n      <td>-</td>\n      <td>drakar1</td>\n      <td>tars_case</td>\n      <td>0-1</td>\n      <td>2403</td>\n      <td>B06</td>\n      <td></td>\n      <td>tars_case won on time</td>\n      <td>180</td>\n      <td>2024.05.02</td>\n      <td>02:35:29</td>\n      <td>2446</td>\n    </tr>\n    <tr>\n      <th>1</th>\n      <td>2</td>\n      <td>Live Chess</td>\n      <td>Chess.com</td>\n      <td>2024.05.02</td>\n      <td>-</td>\n      <td>drakar1</td>\n      <td>michechess89</td>\n      <td>1-0</td>\n      <td>2487</td>\n      <td>D02</td>\n      <td></td>\n      <td>drakar1 won by checkmate</td>\n      <td>180</td>\n      <td>2024.05.02</td>\n      <td>02:46:41</td>\n      <td>2463</td>\n    </tr>\n    <tr>\n      <th>2</th>\n      <td>3</td>\n      <td>Live Chess</td>\n      <td>Chess.com</td>\n      <td>2024.05.02</td>\n      <td>-</td>\n      <td>drakar1</td>\n      <td>Rodin_Kesh</td>\n      <td>1-0</td>\n      <td>2391</td>\n      <td>A43</td>\n      <td></td>\n      <td>drakar1 won by resignation</td>\n      <td>180</td>\n      <td>2024.05.02</td>\n      <td>02:53:12</td>\n      <td>2470</td>\n    </tr>\n    <tr>\n      <th>3</th>\n      <td>4</td>\n      <td>Live Chess</td>\n      <td>Chess.com</td>\n      <td>2024.05.04</td>\n      <td>-</td>\n      <td>drakar1</td>\n      <td>Dark_Attack</td>\n      <td>0-1</td>\n      <td>2440</td>\n      <td>D00</td>\n      <td></td>\n      <td>Dark_Attack won by resignation</td>\n      <td>180</td>\n      <td>2024.05.04</td>\n      <td>01:47:18</td>\n      <td>2452</td>\n    </tr>\n    <tr>\n      <th>4</th>\n      <td>5</td>\n      <td>Live Chess</td>\n      <td>Chess.com</td>\n      <td>2024.05.04</td>\n      <td>-</td>\n      <td>drakar1</td>\n      <td>Mavalazik</td>\n      <td>0-1</td>\n      <td>2427</td>\n      <td>D00</td>\n      <td></td>\n      <td>Mavalazik won on time</td>\n      <td>180</td>\n      <td>2024.05.04</td>\n      <td>05:16:43</td>\n      <td>2434</td>\n    </tr>\n    <tr>\n      <th>...</th>\n      <td>...</td>\n      <td>...</td>\n      <td>...</td>\n      <td>...</td>\n      <td>...</td>\n      <td>...</td>\n      <td>...</td>\n      <td>...</td>\n      <td>...</td>\n      <td>...</td>\n      <td>...</td>\n      <td>...</td>\n      <td>...</td>\n      <td>...</td>\n      <td>...</td>\n      <td>...</td>\n    </tr>\n    <tr>\n      <th>757</th>\n      <td>758</td>\n      <td>Live Chess</td>\n      <td>Chess.com</td>\n      <td>2020.01.06</td>\n      <td>-</td>\n      <td>drakar1</td>\n      <td>ratlacodonkg39</td>\n      <td>1-0</td>\n      <td>2083</td>\n      <td>D02</td>\n      <td></td>\n      <td>drakar1 won on time</td>\n      <td>180</td>\n      <td>2020.01.06</td>\n      <td>08:45:31</td>\n      <td>2136</td>\n    </tr>\n    <tr>\n      <th>758</th>\n      <td>759</td>\n      <td>Live Chess</td>\n      <td>Chess.com</td>\n      <td>2020.01.09</td>\n      <td>-</td>\n      <td>drakar1</td>\n      <td>biciklist</td>\n      <td>1/2-1/2</td>\n      <td>2150</td>\n      <td>A15</td>\n      <td></td>\n      <td>Game drawn by stalemate</td>\n      <td>180</td>\n      <td>2020.01.09</td>\n      <td>06:37:19</td>\n      <td>2137</td>\n    </tr>\n    <tr>\n      <th>759</th>\n      <td>760</td>\n      <td>Live Chess</td>\n      <td>Chess.com</td>\n      <td>2020.01.09</td>\n      <td>-</td>\n      <td>drakar1</td>\n      <td>chhatturangam</td>\n      <td>1/2-1/2</td>\n      <td>2172</td>\n      <td>A40</td>\n      <td></td>\n      <td>Game drawn by stalemate</td>\n      <td>180</td>\n      <td>2020.01.09</td>\n      <td>07:03:34</td>\n      <td>2184</td>\n    </tr>\n    <tr>\n      <th>760</th>\n      <td>761</td>\n      <td>Live Chess</td>\n      <td>Chess.com</td>\n      <td>2020.01.09</td>\n      <td>-</td>\n      <td>drakar1</td>\n      <td>G0492</td>\n      <td>1-0</td>\n      <td>2168</td>\n      <td>A11</td>\n      <td></td>\n      <td>drakar1 won by resignation</td>\n      <td>180</td>\n      <td>2020.01.09</td>\n      <td>07:19:24</td>\n      <td>2200</td>\n    </tr>\n    <tr>\n      <th>761</th>\n      <td>762</td>\n      <td>Live Chess</td>\n      <td>Chess.com</td>\n      <td>2020.01.09</td>\n      <td>-</td>\n      <td>drakar1</td>\n      <td>pasw0rds</td>\n      <td>0-1</td>\n      <td>2203</td>\n      <td>D02</td>\n      <td></td>\n      <td>pasw0rds won by resignation</td>\n      <td>180</td>\n      <td>2020.01.09</td>\n      <td>07:25:38</td>\n      <td>2183</td>\n    </tr>\n  </tbody>\n</table>\n<p>762 rows × 16 columns</p>\n</div>"
     },
     "execution_count": 10,
     "metadata": {},
     "output_type": "execute_result"
    }
   ],
   "source": [
    "filepath = '/home/amedvedev/PycharmProjects/chessgamesstat/data/drakar1/drakar1-white.pgn'\n",
    "g = open_and_scrape_headers(filepath).astype({'BlackElo': 'int32', 'WhiteElo': 'int32'})\n",
    "g"
   ],
   "metadata": {
    "collapsed": false,
    "ExecuteTime": {
     "end_time": "2024-05-09T14:34:36.932911311Z",
     "start_time": "2024-05-09T14:34:33.507408662Z"
    }
   },
   "id": "184c38c3b350eab2",
   "execution_count": 10
  },
  {
   "cell_type": "code",
   "outputs": [],
   "source": [],
   "metadata": {
    "collapsed": false,
    "ExecuteTime": {
     "end_time": "2024-05-09T14:34:23.730825721Z",
     "start_time": "2024-05-09T14:34:23.724311142Z"
    }
   },
   "id": "743de21f81bdc487",
   "execution_count": 9
  },
  {
   "cell_type": "code",
   "outputs": [
    {
     "data": {
      "text/plain": "     game_id       Event       Site        Date Round    White  \\\n696      697  Live Chess  Chess.com  2020.08.07     -  drakar1   \n697      698  Live Chess  Chess.com  2020.08.07     -  drakar1   \n577      578  Live Chess  Chess.com  2020.09.02     -  drakar1   \n578      579  Live Chess  Chess.com  2020.09.02     -  drakar1   \n591      592  Live Chess  Chess.com  2020.09.03     -  drakar1   \n..       ...         ...        ...         ...   ...      ...   \n50        51  Live Chess  Chess.com  2024.04.13     -  drakar1   \n51        52  Live Chess  Chess.com  2024.04.19     -  drakar1   \n58        59  Live Chess  Chess.com  2024.04.21     -  drakar1   \n18        19  Live Chess  Chess.com  2024.05.07     -  drakar1   \n26        27  Live Chess  Chess.com  2024.05.08     -  drakar1   \n\n                        Black   Result  BlackElo  ECO Opening  \\\n696               Aliencowboy      0-1      2548  E10           \n697  icecreamiscream-inactive      0-1      2519  A43           \n577                Sigurbjorn      0-1      2506  B70           \n578                    Ar4uha      0-1      2545  C01           \n591                  aadiii08      0-1      2503  C50           \n..                        ...      ...       ...  ...     ...   \n50               bentsinister      0-1      2509  A41           \n51          Themindfulmoves64  1/2-1/2      2531  A13           \n58                AvatarRoku7      0-1      2568  A45           \n18                BegusDrasko  1/2-1/2      2516  D00           \n26                 Fiancanrno      0-1      2527  D00           \n\n                                        Termination TimeControl     UTCDate  \\\n696                  Aliencowboy won by resignation         180  2020.08.07   \n697     icecreamiscream-inactive won by resignation         180  2020.08.07   \n577                   Sigurbjorn won by resignation         180  2020.09.02   \n578                         Ar4uha won by checkmate         180  2020.09.02   \n591                     aadiii08 won by resignation         180  2020.09.03   \n..                                              ...         ...         ...   \n50                  bentsinister won by resignation         180  2024.04.13   \n51   Game drawn by timeout vs insufficient material         180  2024.04.19   \n58                   AvatarRoku7 won by resignation         180  2024.04.21   \n18                         Game drawn by repetition         180  2024.05.07   \n26                           Fiancanrno won on time         180  2024.05.08   \n\n      UTCTime  WhiteElo  \n696  07:10:50      2355  \n697  07:28:48      2338  \n577  17:48:35      2423  \n578  17:56:08      2425  \n591  07:50:59      2445  \n..        ...       ...  \n50   16:39:41      2462  \n51   05:45:50      2473  \n58   10:42:32      2497  \n18   09:07:54      2443  \n26   09:42:38      2494  \n\n[214 rows x 16 columns]",
      "text/html": "<div>\n<style scoped>\n    .dataframe tbody tr th:only-of-type {\n        vertical-align: middle;\n    }\n\n    .dataframe tbody tr th {\n        vertical-align: top;\n    }\n\n    .dataframe thead th {\n        text-align: right;\n    }\n</style>\n<table border=\"1\" class=\"dataframe\">\n  <thead>\n    <tr style=\"text-align: right;\">\n      <th></th>\n      <th>game_id</th>\n      <th>Event</th>\n      <th>Site</th>\n      <th>Date</th>\n      <th>Round</th>\n      <th>White</th>\n      <th>Black</th>\n      <th>Result</th>\n      <th>BlackElo</th>\n      <th>ECO</th>\n      <th>Opening</th>\n      <th>Termination</th>\n      <th>TimeControl</th>\n      <th>UTCDate</th>\n      <th>UTCTime</th>\n      <th>WhiteElo</th>\n    </tr>\n  </thead>\n  <tbody>\n    <tr>\n      <th>696</th>\n      <td>697</td>\n      <td>Live Chess</td>\n      <td>Chess.com</td>\n      <td>2020.08.07</td>\n      <td>-</td>\n      <td>drakar1</td>\n      <td>Aliencowboy</td>\n      <td>0-1</td>\n      <td>2548</td>\n      <td>E10</td>\n      <td></td>\n      <td>Aliencowboy won by resignation</td>\n      <td>180</td>\n      <td>2020.08.07</td>\n      <td>07:10:50</td>\n      <td>2355</td>\n    </tr>\n    <tr>\n      <th>697</th>\n      <td>698</td>\n      <td>Live Chess</td>\n      <td>Chess.com</td>\n      <td>2020.08.07</td>\n      <td>-</td>\n      <td>drakar1</td>\n      <td>icecreamiscream-inactive</td>\n      <td>0-1</td>\n      <td>2519</td>\n      <td>A43</td>\n      <td></td>\n      <td>icecreamiscream-inactive won by resignation</td>\n      <td>180</td>\n      <td>2020.08.07</td>\n      <td>07:28:48</td>\n      <td>2338</td>\n    </tr>\n    <tr>\n      <th>577</th>\n      <td>578</td>\n      <td>Live Chess</td>\n      <td>Chess.com</td>\n      <td>2020.09.02</td>\n      <td>-</td>\n      <td>drakar1</td>\n      <td>Sigurbjorn</td>\n      <td>0-1</td>\n      <td>2506</td>\n      <td>B70</td>\n      <td></td>\n      <td>Sigurbjorn won by resignation</td>\n      <td>180</td>\n      <td>2020.09.02</td>\n      <td>17:48:35</td>\n      <td>2423</td>\n    </tr>\n    <tr>\n      <th>578</th>\n      <td>579</td>\n      <td>Live Chess</td>\n      <td>Chess.com</td>\n      <td>2020.09.02</td>\n      <td>-</td>\n      <td>drakar1</td>\n      <td>Ar4uha</td>\n      <td>0-1</td>\n      <td>2545</td>\n      <td>C01</td>\n      <td></td>\n      <td>Ar4uha won by checkmate</td>\n      <td>180</td>\n      <td>2020.09.02</td>\n      <td>17:56:08</td>\n      <td>2425</td>\n    </tr>\n    <tr>\n      <th>591</th>\n      <td>592</td>\n      <td>Live Chess</td>\n      <td>Chess.com</td>\n      <td>2020.09.03</td>\n      <td>-</td>\n      <td>drakar1</td>\n      <td>aadiii08</td>\n      <td>0-1</td>\n      <td>2503</td>\n      <td>C50</td>\n      <td></td>\n      <td>aadiii08 won by resignation</td>\n      <td>180</td>\n      <td>2020.09.03</td>\n      <td>07:50:59</td>\n      <td>2445</td>\n    </tr>\n    <tr>\n      <th>...</th>\n      <td>...</td>\n      <td>...</td>\n      <td>...</td>\n      <td>...</td>\n      <td>...</td>\n      <td>...</td>\n      <td>...</td>\n      <td>...</td>\n      <td>...</td>\n      <td>...</td>\n      <td>...</td>\n      <td>...</td>\n      <td>...</td>\n      <td>...</td>\n      <td>...</td>\n      <td>...</td>\n    </tr>\n    <tr>\n      <th>50</th>\n      <td>51</td>\n      <td>Live Chess</td>\n      <td>Chess.com</td>\n      <td>2024.04.13</td>\n      <td>-</td>\n      <td>drakar1</td>\n      <td>bentsinister</td>\n      <td>0-1</td>\n      <td>2509</td>\n      <td>A41</td>\n      <td></td>\n      <td>bentsinister won by resignation</td>\n      <td>180</td>\n      <td>2024.04.13</td>\n      <td>16:39:41</td>\n      <td>2462</td>\n    </tr>\n    <tr>\n      <th>51</th>\n      <td>52</td>\n      <td>Live Chess</td>\n      <td>Chess.com</td>\n      <td>2024.04.19</td>\n      <td>-</td>\n      <td>drakar1</td>\n      <td>Themindfulmoves64</td>\n      <td>1/2-1/2</td>\n      <td>2531</td>\n      <td>A13</td>\n      <td></td>\n      <td>Game drawn by timeout vs insufficient material</td>\n      <td>180</td>\n      <td>2024.04.19</td>\n      <td>05:45:50</td>\n      <td>2473</td>\n    </tr>\n    <tr>\n      <th>58</th>\n      <td>59</td>\n      <td>Live Chess</td>\n      <td>Chess.com</td>\n      <td>2024.04.21</td>\n      <td>-</td>\n      <td>drakar1</td>\n      <td>AvatarRoku7</td>\n      <td>0-1</td>\n      <td>2568</td>\n      <td>A45</td>\n      <td></td>\n      <td>AvatarRoku7 won by resignation</td>\n      <td>180</td>\n      <td>2024.04.21</td>\n      <td>10:42:32</td>\n      <td>2497</td>\n    </tr>\n    <tr>\n      <th>18</th>\n      <td>19</td>\n      <td>Live Chess</td>\n      <td>Chess.com</td>\n      <td>2024.05.07</td>\n      <td>-</td>\n      <td>drakar1</td>\n      <td>BegusDrasko</td>\n      <td>1/2-1/2</td>\n      <td>2516</td>\n      <td>D00</td>\n      <td></td>\n      <td>Game drawn by repetition</td>\n      <td>180</td>\n      <td>2024.05.07</td>\n      <td>09:07:54</td>\n      <td>2443</td>\n    </tr>\n    <tr>\n      <th>26</th>\n      <td>27</td>\n      <td>Live Chess</td>\n      <td>Chess.com</td>\n      <td>2024.05.08</td>\n      <td>-</td>\n      <td>drakar1</td>\n      <td>Fiancanrno</td>\n      <td>0-1</td>\n      <td>2527</td>\n      <td>D00</td>\n      <td></td>\n      <td>Fiancanrno won on time</td>\n      <td>180</td>\n      <td>2024.05.08</td>\n      <td>09:42:38</td>\n      <td>2494</td>\n    </tr>\n  </tbody>\n</table>\n<p>214 rows × 16 columns</p>\n</div>"
     },
     "execution_count": 15,
     "metadata": {},
     "output_type": "execute_result"
    }
   ],
   "source": [
    "g[g[\"BlackElo\"] > 2500].sort_values(by=['UTCDate', 'UTCTime'], ascending=True)"
   ],
   "metadata": {
    "collapsed": false,
    "ExecuteTime": {
     "end_time": "2024-05-09T14:37:18.160443904Z",
     "start_time": "2024-05-09T14:37:18.138293360Z"
    }
   },
   "id": "92e86783551f70c4",
   "execution_count": 15
  }
 ],
 "metadata": {
  "kernelspec": {
   "display_name": "Python 3",
   "language": "python",
   "name": "python3"
  },
  "language_info": {
   "codemirror_mode": {
    "name": "ipython",
    "version": 2
   },
   "file_extension": ".py",
   "mimetype": "text/x-python",
   "name": "python",
   "nbconvert_exporter": "python",
   "pygments_lexer": "ipython2",
   "version": "2.7.6"
  }
 },
 "nbformat": 4,
 "nbformat_minor": 5
}
